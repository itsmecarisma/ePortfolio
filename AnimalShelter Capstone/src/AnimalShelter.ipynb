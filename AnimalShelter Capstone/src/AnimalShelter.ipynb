{
 "cells": [
  {
   "cell_type": "code",
   "id": "initial_id",
   "metadata": {
    "collapsed": true,
    "jupyter": {
     "is_executing": true
    }
   },
   "source": [
    "from src.AnimalShelter import AnimalShelter\n",
    "\n",
    "# Replace these with your actual MongoDB credentials\n",
    "USER = \"your_username\"\n",
    "PASS = \"your_password\"\n",
    "\n",
    "# Create an instance of AnimalShelter\n",
    "shelter = AnimalShelter(USER, PASS)\n",
    "\n",
    "# Test create method\n",
    "new_animal = {\n",
    "    \"name\": \"Fido\",\n",
    "    \"species\": \"Dog\",\n",
    "    \"age\": 5\n",
    "}\n",
    "create_result = shelter.create(new_animal)\n",
    "print(f\"Create result: {create_result}\")\n",
    "\n",
    "# Test read method\n",
    "read_result = shelter.read({\"name\": \"Fido\"})\n",
    "print(f\"Read result: {read_result}\")\n",
    "\n",
    "# Test update method\n",
    "update_result = shelter.update({\"name\": \"Fido\"}, {\"age\": 6})\n",
    "print(f\"Update result: {update_result}\")\n",
    "\n",
    "# Test delete method\n",
    "delete_result = shelter.delete({\"name\": \"Fido\"})\n",
    "print(f\"Delete result: {delete_result}\")\n"
   ],
   "outputs": [],
   "execution_count": null
  },
  {
   "metadata": {},
   "cell_type": "code",
   "outputs": [],
   "execution_count": null,
   "source": "",
   "id": "1e9fc9b8592d8239"
  }
 ],
 "metadata": {
  "kernelspec": {
   "display_name": "Python 3",
   "language": "python",
   "name": "python3"
  },
  "language_info": {
   "codemirror_mode": {
    "name": "ipython",
    "version": 2
   },
   "file_extension": ".py",
   "mimetype": "text/x-python",
   "name": "python",
   "nbconvert_exporter": "python",
   "pygments_lexer": "ipython2",
   "version": "2.7.6"
  }
 },
 "nbformat": 4,
 "nbformat_minor": 5
}
